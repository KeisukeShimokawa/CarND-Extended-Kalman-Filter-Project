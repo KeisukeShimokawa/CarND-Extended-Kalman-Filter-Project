{
  "nbformat": 4,
  "nbformat_minor": 0,
  "metadata": {
    "colab": {
      "name": "code understanding.ipynb",
      "provenance": [],
      "collapsed_sections": [],
      "authorship_tag": "ABX9TyO2fxtUkTQhitkhUusdlGDP",
      "include_colab_link": true
    },
    "kernelspec": {
      "name": "python3",
      "display_name": "Python 3"
    }
  },
  "cells": [
    {
      "cell_type": "markdown",
      "metadata": {
        "id": "view-in-github",
        "colab_type": "text"
      },
      "source": [
        "<a href=\"https://colab.research.google.com/github/KeisukeShimokawa/CarND-Extended-Kalman-Filter-Project/blob/master/explore/code_understanding.ipynb\" target=\"_parent\"><img src=\"https://colab.research.google.com/assets/colab-badge.svg\" alt=\"Open In Colab\"/></a>"
      ]
    },
    {
      "cell_type": "markdown",
      "metadata": {
        "id": "fOG1Thrpvg3W",
        "colab_type": "text"
      },
      "source": [
        "# Code Explanation"
      ]
    },
    {
      "cell_type": "markdown",
      "metadata": {
        "id": "Ve0FVTyXTzLM",
        "colab_type": "text"
      },
      "source": [
        "The structure of codes on this project is below.\n",
        "\n",
        "- `measurement_package.h`\n",
        "- `main.cpp`\n",
        "- `tools.cpp`\n",
        "- `kalman_filter.cpp`\n",
        "- `FusionEKF.cpp`"
      ]
    },
    {
      "cell_type": "markdown",
      "metadata": {
        "id": "qlIdd46WTb6f",
        "colab_type": "text"
      },
      "source": [
        "## measurement_package.h\n",
        "\n",
        "- [long long型](https://cpprefjp.github.io/lang/cpp11/long_long_type.html)"
      ]
    },
    {
      "cell_type": "markdown",
      "metadata": {
        "id": "6rF3bUuPUouB",
        "colab_type": "text"
      },
      "source": [
        "```cpp\n",
        "/* :include_guard:\n",
        "    This directive can prevent double declaration of types, enumerations, static variables, etc.\n",
        "    When a file is included, `#ifndef <token>` is executed to check if the specified token was previously defined in other files or include files.\n",
        "    If it was previously defined, `#else` derective is executed. if `#else` is not defined as in this file, an empty file is simply created.\n",
        "*/\n",
        "\n",
        "#ifndef MEASUREMENT_PACKAGE_H_\n",
        "#define MEASUREMENT_PACKAGE_H_\n",
        "\n",
        "#include \"Eigen/Dense\"\n",
        "\n",
        "class MeasurementPackage {\n",
        " /* :public:\n",
        "    This enables you to have an access to this class member variables, methods, enum, ...\n",
        "    If you set `private`, you can't have an access the properties from external files.\n",
        " */\n",
        " public:\n",
        "  /* :enum:\n",
        "      `enum <tag> {constant list} variable;`\n",
        "\n",
        "      This can define the List of constant variables and you can define and use it like below.\n",
        "\n",
        "      ===================\n",
        "      enum Days {Saturday, Sunday, Tuesday, Wednesday, Thursday, Friday};\n",
        "      Days day = Saturday;\n",
        "      if (day == Saturday) {\n",
        "        // code\n",
        "      }\n",
        "      ===================\n",
        "\n",
        "      If you use C++11, you can have an aceess to the properties in your own namespace like `std::string::clear`.\n",
        "      In the code example, you can do this like `Days::Sunday`.\n",
        "  */\n",
        "  enum SensorType{\n",
        "    LASER,\n",
        "    RADAR\n",
        "  } sensor_type_;\n",
        "\n",
        "  /* :long long:\n",
        "      This Integer class can express integer value over 64 bit. This class `long long` are guaranteed to be at least 64 bits wide, but if you need a fixed 64-bit integer type, we recommend using the int64_t type.\n",
        "      For example, when serializing, using an integer type with a fixed bit width enables deserialization on different platforms.\n",
        "  */\n",
        "  long long timestamp_;\n",
        "\n",
        "  /* :Eigen::VectorXd:\n",
        "      This can store measurement variables like Lidar/Rader.\n",
        "      When you use this variables, you define how many element you need for expressing measurement value like below.\n",
        "\n",
        "      ==================\n",
        "      // first, define variable\n",
        "      MeasurementPackage meas_package;\n",
        "      // second, define instance of measurement class.\n",
        "      meas_package.raw_measurements_ = Eigen::VectorXd(2);\n",
        "      ==================\n",
        "  */\n",
        "  Eigen::VectorXd raw_measurements_;\n",
        "};\n",
        "\n",
        "#endif // MEASUREMENT_PACKAGE_H_\n",
        "```"
      ]
    },
    {
      "cell_type": "markdown",
      "metadata": {
        "id": "gjdxUaL-Tb2l",
        "colab_type": "text"
      },
      "source": [
        "## tools.h"
      ]
    },
    {
      "cell_type": "markdown",
      "metadata": {
        "id": "Jh43jVmuTby_",
        "colab_type": "text"
      },
      "source": [
        "```cpp\n",
        "/*\n",
        "    This header file defines some utility functions for calculating Root Mean Square Error and Jacobians\n",
        "*/\n",
        "\n",
        "#ifndef TOOLS_H_\n",
        "#define TOOLS_H_\n",
        "\n",
        "#include <vector>\n",
        "#include \"Eigen/Dense\"\n",
        "\n",
        "class Tools {\n",
        " public:\n",
        "  /* :Constructor:\n",
        "      This method is executed when you initialize variable of this class like below.\n",
        "      ===============\n",
        "      Tools tools; // Constructor is executed.\n",
        "      ===============\n",
        "   */\n",
        "  Tools();\n",
        "\n",
        "  /* :Destructor:\n",
        "      This method provides a function to release the memory allocated to a variable when its life has expired.\n",
        "      ===============\n",
        "      {\n",
        "          Tools tools;\n",
        "      }\n",
        "      // Destructor is executed.\n",
        "      ===============\n",
        "   */\n",
        "   /* :virtual:\n",
        "      This provide abstract method that you have to override in the Inherited class\n",
        "   */\n",
        "  virtual ~Tools();\n",
        "\n",
        "  /**\n",
        "   * A helper method to calculate RMSE.\n",
        "   */\n",
        "  Eigen::VectorXd CalculateRMSE(const std::vector<Eigen::VectorXd> &estimations, \n",
        "                                const std::vector<Eigen::VectorXd> &ground_truth);\n",
        "\n",
        "  /**\n",
        "   * A helper method to calculate Jacobians.\n",
        "   */\n",
        "  Eigen::MatrixXd CalculateJacobian(const Eigen::VectorXd& x_state);\n",
        "\n",
        "};\n",
        "\n",
        "#endif  // TOOLS_H_\n",
        "```"
      ]
    },
    {
      "cell_type": "markdown",
      "metadata": {
        "id": "tMZ1YYO4Tbvc",
        "colab_type": "text"
      },
      "source": [
        "## tools.cpp"
      ]
    },
    {
      "cell_type": "markdown",
      "metadata": {
        "id": "MOIk7txyTbr0",
        "colab_type": "text"
      },
      "source": [
        "```cpp\n",
        "#include \"tools.h\"\n",
        "#include <iostream>\n",
        "\n",
        "using Eigen::VectorXd;\n",
        "using Eigen::MatrixXd;\n",
        "using std::vector;\n",
        "\n",
        "Tools::Tools() {}\n",
        "\n",
        "Tools::~Tools() {}\n",
        "\n",
        "VectorXd Tools::CalculateRMSE(const vector<VectorXd> &estimations,\n",
        "                              const vector<VectorXd> &ground_truth) {\n",
        "  /**\n",
        "   * TODO: Calculate the RMSE here.\n",
        "   */\n",
        "}\n",
        "\n",
        "MatrixXd Tools::CalculateJacobian(const VectorXd& x_state) {\n",
        "  /**\n",
        "   * TODO:\n",
        "   * Calculate a Jacobian here.\n",
        "   */\n",
        "}\n",
        "\n",
        "```"
      ]
    },
    {
      "cell_type": "markdown",
      "metadata": {
        "id": "4k7oVDWETbo1",
        "colab_type": "text"
      },
      "source": [
        "## FusionEKF.h\n",
        "\n",
        "- initializes the filter, calls the predict function, calls the update function"
      ]
    },
    {
      "cell_type": "markdown",
      "metadata": {
        "id": "k4gvRdquTblO",
        "colab_type": "text"
      },
      "source": [
        "```cpp\n",
        "#ifndef FusionEKF_H_\n",
        "#define FusionEKF_H_\n",
        "\n",
        "#include <fstream>\n",
        "#include <string>\n",
        "#include <vector>\n",
        "#include \"Eigen/Dense\"\n",
        "#include \"kalman_filter.h\"\n",
        "#include \"measurement_package.h\"\n",
        "#include \"tools.h\"\n",
        "\n",
        "class FusionEKF {\n",
        " public:\n",
        "  /**\n",
        "   * Constructor.\n",
        "   */\n",
        "  FusionEKF();\n",
        "\n",
        "  /**\n",
        "   * Destructor.\n",
        "   */\n",
        "  virtual ~FusionEKF();\n",
        "\n",
        "  /**\n",
        "   * Run the whole flow of the Kalman Filter from here.\n",
        "   */\n",
        "  void ProcessMeasurement(const MeasurementPackage &measurement_pack);\n",
        "\n",
        "  /**\n",
        "   * Kalman Filter update and prediction math lives in here.\n",
        "   */\n",
        "  KalmanFilter ekf_;\n",
        "\n",
        " private:\n",
        "  // check whether the tracking toolbox was initialized or not (first measurement)\n",
        "  bool is_initialized_;\n",
        "\n",
        "  // previous timestamp\n",
        "  long long previous_timestamp_;\n",
        "\n",
        "  // tool object used to compute Jacobian and RMSE\n",
        "  Tools tools;\n",
        "  Eigen::MatrixXd R_laser_;\n",
        "  Eigen::MatrixXd R_radar_;\n",
        "  Eigen::MatrixXd H_laser_;\n",
        "  Eigen::MatrixXd Hj_;\n",
        "};\n",
        "\n",
        "#endif // FusionEKF_H_\n",
        "```"
      ]
    },
    {
      "cell_type": "code",
      "metadata": {
        "id": "DRikH7GgvVJ9",
        "colab_type": "code",
        "colab": {}
      },
      "source": [
        ""
      ],
      "execution_count": 0,
      "outputs": []
    }
  ]
}